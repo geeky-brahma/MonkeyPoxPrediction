{
 "cells": [
  {
   "cell_type": "markdown",
   "id": "4f3d241f",
   "metadata": {},
   "source": [
    "# Monkeypox Image Classification with MobileNetV2\n",
    "\n",
    "This notebook demonstrates how to use a pre-trained models to classify images as either \"Monkeypox\" or \"Non Monkeypox\". It covers loading the trained model, preparing input images, making predictions, and displaying the results."
   ]
  },
  {
   "cell_type": "code",
   "execution_count": null,
   "id": "42f95266",
   "metadata": {},
   "outputs": [
    {
     "name": "stdout",
     "output_type": "stream",
     "text": [
      "1/1 [==============================] - 1s 882ms/step\n",
      "The image is predicted as: Monkeypox\n"
     ]
    }
   ],
   "source": [
    "import tensorflow as tf\n",
    "from tensorflow.keras.preprocessing.image import load_img, img_to_array\n",
    "import numpy as np\n",
    "\n",
    "# Step 1: Load the trained model\n",
    "model = tf.keras.models.load_model('models/mobilenetv2_monkeypox_model.h5') #Replace with Model Path\n",
    "\n",
    "# Step 2: Prepare the image for prediction\n",
    "def prepare_image(image_path, target_size=(224, 224)):\n",
    "    # Load the image\n",
    "    img = load_img(image_path, target_size=target_size)\n",
    "    \n",
    "    # Convert the image to a numpy array\n",
    "    img_array = img_to_array(img)\n",
    "    \n",
    "    # Rescale the image (as done during model training)\n",
    "    img_array = img_array / 255.0\n",
    "    \n",
    "    # Expand dimensions to match the input shape of the model (batch_size, height, width, channels)\n",
    "    img_array = np.expand_dims(img_array, axis=0)\n",
    "    \n",
    "    return img_array\n",
    "\n",
    "# Step 3: Make a prediction on a new image\n",
    "def predict_image(image_path):\n",
    "    # Prepare the image\n",
    "    img_array = prepare_image(image_path)\n",
    "    \n",
    "    # Make the prediction\n",
    "    prediction = model.predict(img_array)\n",
    "    \n",
    "    # Convert prediction to class label\n",
    "    if prediction[0] > 0.5:\n",
    "        return \"Monkeypox\"\n",
    "    else:\n",
    "        return \"Non Monkeypox\"\n",
    "\n",
    "# Step 4: Test with a random image\n",
    "image_path = 'dataset/test_data/Non_monkeypox/NM10_01.jpg'  # Replace with the path to your image\n",
    "result = predict_image(image_path)\n",
    "print(f'The image is predicted as: {result}')\n"
   ]
  }
 ],
 "metadata": {
  "language_info": {
   "name": "python"
  }
 },
 "nbformat": 4,
 "nbformat_minor": 5
}
